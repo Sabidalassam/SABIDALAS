{
 "cells": [
  {
   "cell_type": "markdown",
   "id": "856f4c10",
   "metadata": {},
   "source": [
    "# Numpy Basics  <hr style = \"border:2.5px solid #F29367\"></hr>"
   ]
  },
  {
   "cell_type": "markdown",
   "id": "63155759",
   "metadata": {},
   "source": [
    "Data Analyst: Sam T. Sabidalas <br>\n",
    "Department: Electrical Engineering"
   ]
  },
  {
   "cell_type": "code",
   "execution_count": 8,
   "id": "3f38c71a",
   "metadata": {},
   "outputs": [],
   "source": [
    "# imports and packages\n",
    "import numpy as np\n",
    "from scipy import stats"
   ]
  },
  {
   "cell_type": "markdown",
   "id": "520be004",
   "metadata": {},
   "source": [
    "# 1D Array"
   ]
  },
  {
   "cell_type": "code",
   "execution_count": 38,
   "id": "f9d6f2a1",
   "metadata": {},
   "outputs": [
    {
     "data": {
      "text/plain": [
       "array([1, 2, 3])"
      ]
     },
     "execution_count": 38,
     "metadata": {},
     "output_type": "execute_result"
    }
   ],
   "source": [
    "array_a = np.array([1,2,3])\n",
    "array_a"
   ]
  },
  {
   "cell_type": "markdown",
   "id": "6af55b90",
   "metadata": {},
   "source": [
    "# 2D Array"
   ]
  },
  {
   "cell_type": "code",
   "execution_count": 42,
   "id": "54326dc6",
   "metadata": {},
   "outputs": [
    {
     "data": {
      "text/plain": [
       "array([[1, 2, 3],\n",
       "       [4, 5, 6]])"
      ]
     },
     "execution_count": 42,
     "metadata": {},
     "output_type": "execute_result"
    }
   ],
   "source": [
    "my_array = np.array([\n",
    "    [1,2,3],\n",
    "    [4,5,6]\n",
    "])\n",
    "my_array"
   ]
  },
  {
   "cell_type": "code",
   "execution_count": 48,
   "id": "3618e5d8",
   "metadata": {},
   "outputs": [
    {
     "data": {
      "text/plain": [
       "array([[1, 4],\n",
       "       [2, 5],\n",
       "       [3, 6]])"
      ]
     },
     "execution_count": 48,
     "metadata": {},
     "output_type": "execute_result"
    }
   ],
   "source": [
    "my_array = my_array.T\n",
    "my_array"
   ]
  },
  {
   "cell_type": "code",
   "execution_count": 50,
   "id": "ca83ae92",
   "metadata": {},
   "outputs": [
    {
     "data": {
      "text/plain": [
       "array([ 6, 15])"
      ]
     },
     "execution_count": 50,
     "metadata": {},
     "output_type": "execute_result"
    }
   ],
   "source": [
    "np.sum(my_array, axis = 0)"
   ]
  },
  {
   "cell_type": "code",
   "execution_count": 53,
   "id": "b77f0c85",
   "metadata": {},
   "outputs": [
    {
     "data": {
      "text/plain": [
       "array([5, 7, 9])"
      ]
     },
     "execution_count": 53,
     "metadata": {},
     "output_type": "execute_result"
    }
   ],
   "source": [
    "np.sum(my_array, axis = 1)"
   ]
  },
  {
   "cell_type": "markdown",
   "id": "8be54c8e",
   "metadata": {},
   "source": [
    "# Measures of Central Tendency"
   ]
  },
  {
   "cell_type": "code",
   "execution_count": 4,
   "id": "8c6dc7b4",
   "metadata": {},
   "outputs": [
    {
     "data": {
      "text/plain": [
       "array([120,  60,  85, 150, 200])"
      ]
     },
     "execution_count": 4,
     "metadata": {},
     "output_type": "execute_result"
    }
   ],
   "source": [
    "fruits = np.array([120,60,85,150,200])\n",
    "fruits"
   ]
  },
  {
   "cell_type": "code",
   "execution_count": 39,
   "id": "a4072b85",
   "metadata": {},
   "outputs": [
    {
     "name": "stdout",
     "output_type": "stream",
     "text": [
      " The mean is 123.0\n"
     ]
    }
   ],
   "source": [
    "fruits_mean = np.mean(fruits)\n",
    "fruits_mean\n",
    "print(\" The mean is \" + str(fruits_mean))"
   ]
  },
  {
   "cell_type": "code",
   "execution_count": 40,
   "id": "73463015",
   "metadata": {},
   "outputs": [
    {
     "name": "stdout",
     "output_type": "stream",
     "text": [
      " The median is 120.0\n"
     ]
    }
   ],
   "source": [
    "median_fruits = np.median(fruits)\n",
    "median_fruits\n",
    "print(\" The median is \" + str(median_fruits))"
   ]
  },
  {
   "cell_type": "code",
   "execution_count": 41,
   "id": "bd441eed",
   "metadata": {},
   "outputs": [
    {
     "name": "stdout",
     "output_type": "stream",
     "text": [
      " The mode is ModeResult(mode=60, count=1)\n"
     ]
    }
   ],
   "source": [
    "mode_fruits = stats.mode(fruits)\n",
    "mode_fruits\n",
    "print(\" The mode is \" + str(mode_fruits))"
   ]
  },
  {
   "cell_type": "markdown",
   "id": "c6963578",
   "metadata": {},
   "source": [
    "# Jaguar vs Panther"
   ]
  },
  {
   "cell_type": "markdown",
   "id": "0e88fdfa",
   "metadata": {},
   "source": [
    "## Jaguar"
   ]
  },
  {
   "cell_type": "code",
   "execution_count": 10,
   "id": "dbc1f32c",
   "metadata": {},
   "outputs": [
    {
     "data": {
      "text/plain": [
       "array([10.6,  9.1,  9.3,  9.8, 10.5, 10.4,  9.5, 11. , 10.4,  3. ,  9.8])"
      ]
     },
     "execution_count": 10,
     "metadata": {},
     "output_type": "execute_result"
    }
   ],
   "source": [
    "jaguar = np.array([10.6,9.1,9.3,9.8,10.5,10.4,9.5,11,10.4,3,9.8])\n",
    "jaguar"
   ]
  },
  {
   "cell_type": "code",
   "execution_count": 26,
   "id": "de51e44f",
   "metadata": {},
   "outputs": [
    {
     "name": "stdout",
     "output_type": "stream",
     "text": [
      "The mean is 9.399999999999999\n"
     ]
    }
   ],
   "source": [
    "jaguar_mean = np.mean(jaguar)\n",
    "jaguar_mean\n",
    "print( \"The mean is \" + str(jaguar_mean))"
   ]
  },
  {
   "cell_type": "code",
   "execution_count": 28,
   "id": "747681fc",
   "metadata": {},
   "outputs": [
    {
     "name": "stdout",
     "output_type": "stream",
     "text": [
      "The median is 9.8\n"
     ]
    }
   ],
   "source": [
    "median_jaguar = np.median(jaguar)\n",
    "median_jaguar\n",
    "print( \"The median is \" + str(median_jaguar))"
   ]
  },
  {
   "cell_type": "code",
   "execution_count": 54,
   "id": "7c613a69",
   "metadata": {},
   "outputs": [
    {
     "name": "stdout",
     "output_type": "stream",
     "text": [
      "The mode is ModeResult(mode=9.8, count=2)\n"
     ]
    }
   ],
   "source": [
    "mode_jaguar = stats.mode(jaguar)\n",
    "mode_jaguar\n",
    "print( \"The mode is \" + str(mode_jaguar))"
   ]
  },
  {
   "cell_type": "code",
   "execution_count": 61,
   "id": "2831bb4e",
   "metadata": {},
   "outputs": [
    {
     "name": "stdout",
     "output_type": "stream",
     "text": [
      " The range is 8.0\n"
     ]
    }
   ],
   "source": [
    "max_jaguar = np.max(jaguar)\n",
    "min_jaguar = np.min(jaguar)\n",
    "\n",
    "\n",
    "range_jaguar = max_jaguar - min_jaguar\n",
    "range_jaguar\n",
    "print(\" The range is \" + str(range_jaguar))"
   ]
  },
  {
   "cell_type": "code",
   "execution_count": 84,
   "id": "898f1f61",
   "metadata": {},
   "outputs": [
    {
     "name": "stdout",
     "output_type": "stream",
     "text": [
      " The 1st quartile is 9.4\n"
     ]
    }
   ],
   "source": [
    "#Q1\n",
    "q1_jaguar = np.percentile(jaguar,25)\n",
    "q1_jaguar\n",
    "print(\" The 1st quartile is \" + str(q1_jaguar))"
   ]
  },
  {
   "cell_type": "code",
   "execution_count": 83,
   "id": "4f8de1ec",
   "metadata": {},
   "outputs": [
    {
     "name": "stdout",
     "output_type": "stream",
     "text": [
      " The 2nd quartile is 9.8\n"
     ]
    }
   ],
   "source": [
    "#Q2\n",
    "q2_jaguar = np.percentile(jaguar,50)\n",
    "q2_jaguar\n",
    "print(\" The 2nd quartile is \" + str(q2_jaguar))"
   ]
  },
  {
   "cell_type": "code",
   "execution_count": 82,
   "id": "bb0b1260",
   "metadata": {},
   "outputs": [
    {
     "name": "stdout",
     "output_type": "stream",
     "text": [
      "The 3rd quartile is 10.45\n"
     ]
    }
   ],
   "source": [
    "#Q3\n",
    "q3_jaguar = np.percentile(jaguar,75)\n",
    "q3_jaguar\n",
    "print(\"The 3rd quartile is \" + str(q3_jaguar))"
   ]
  },
  {
   "cell_type": "code",
   "execution_count": 68,
   "id": "6b2d94b9",
   "metadata": {},
   "outputs": [
    {
     "name": "stdout",
     "output_type": "stream",
     "text": [
      "The Interquatile Range is 1.049999999999999\n"
     ]
    }
   ],
   "source": [
    "#IQR\n",
    "iqr_jaguar = q3_jaguar - q1_jaguar\n",
    "iqr_jaguar\n",
    "print(\"The Interquatile Range is \" + str(iqr_jaguar))"
   ]
  },
  {
   "cell_type": "code",
   "execution_count": 69,
   "id": "138b4d03",
   "metadata": {},
   "outputs": [
    {
     "name": "stdout",
     "output_type": "stream",
     "text": [
      "The variance is 4.86\n"
     ]
    }
   ],
   "source": [
    "#sample variance\n",
    "var_jaguar = np.var(jaguar,ddof=1)\n",
    "var_jaguar\n",
    "print(\"The variance is \" + str(var_jaguar))"
   ]
  },
  {
   "cell_type": "code",
   "execution_count": 31,
   "id": "29790044",
   "metadata": {},
   "outputs": [
    {
     "name": "stdout",
     "output_type": "stream",
     "text": [
      " The sample standard deviation is 2.2045407685048604\n"
     ]
    }
   ],
   "source": [
    "# sample standard deviation\n",
    "samplestd_jaguar = np.std(jaguar,ddof=1)\n",
    "samplestd_jaguar\n",
    "print(\" The sample standard deviation is \" + str(samplestd_jaguar))"
   ]
  },
  {
   "cell_type": "markdown",
   "id": "9ac67ce5",
   "metadata": {},
   "source": [
    "## Panther"
   ]
  },
  {
   "cell_type": "code",
   "execution_count": 18,
   "id": "6eaf69d6",
   "metadata": {},
   "outputs": [
    {
     "data": {
      "text/plain": [
       "array([10.1, 11. ,  9.1, 20. ,  9.2, 10.8,  9.9,  9.2,  9.1,  9.1])"
      ]
     },
     "execution_count": 18,
     "metadata": {},
     "output_type": "execute_result"
    }
   ],
   "source": [
    "panther = np.array([10.1,11,9.1,20,9.2,10.8,9.9,9.2,9.1,9.1])\n",
    "panther"
   ]
  },
  {
   "cell_type": "code",
   "execution_count": 32,
   "id": "4bbb29c4",
   "metadata": {},
   "outputs": [
    {
     "name": "stdout",
     "output_type": "stream",
     "text": [
      "The mean is 10.75\n"
     ]
    }
   ],
   "source": [
    "panther_mean = np.mean(panther)\n",
    "panther_mean\n",
    "print( \"The mean is \" + str(panther_mean))"
   ]
  },
  {
   "cell_type": "code",
   "execution_count": 33,
   "id": "ced35a4e",
   "metadata": {},
   "outputs": [
    {
     "name": "stdout",
     "output_type": "stream",
     "text": [
      "The median is 9.55\n"
     ]
    }
   ],
   "source": [
    "median_panther = np.median(panther)\n",
    "median_panther\n",
    "print( \"The median is \" + str(median_panther))"
   ]
  },
  {
   "cell_type": "code",
   "execution_count": null,
   "id": "1dd2efaf",
   "metadata": {},
   "outputs": [
    {
     "name": "stdout",
     "output_type": "stream",
     "text": [
      "The mode is ModeResult(mode=9.1, count=3)\n"
     ]
    }
   ],
   "source": [
    "mode_panther = stats.mode(panther)\n",
    "mode_panther\n",
    "print( \"The mode is \" + str(mode_panther))"
   ]
  },
  {
   "cell_type": "code",
   "execution_count": 70,
   "id": "0fdf6689",
   "metadata": {},
   "outputs": [
    {
     "name": "stdout",
     "output_type": "stream",
     "text": [
      " The range is 10.9\n"
     ]
    }
   ],
   "source": [
    "max_panther = np.max(panther)\n",
    "min_panther = np.min(panther)\n",
    "\n",
    "\n",
    "range_panther = max_panther - min_panther\n",
    "range_panther\n",
    "print(\" The range is \" + str(range_panther))"
   ]
  },
  {
   "cell_type": "code",
   "execution_count": 81,
   "id": "a82235b7",
   "metadata": {},
   "outputs": [
    {
     "name": "stdout",
     "output_type": "stream",
     "text": [
      " The 1st quartile is 9.125\n"
     ]
    }
   ],
   "source": [
    "#Q1\n",
    "q1_panther = np.percentile(panther,25)\n",
    "q1_panther\n",
    "print(\" The 1st quartile is \" + str(q1_panther))"
   ]
  },
  {
   "cell_type": "code",
   "execution_count": 80,
   "id": "76222733",
   "metadata": {},
   "outputs": [
    {
     "name": "stdout",
     "output_type": "stream",
     "text": [
      " The 2nd quartile is 9.55\n"
     ]
    }
   ],
   "source": [
    "#Q2\n",
    "q2_panther = np.percentile(panther,50)\n",
    "q2_panther\n",
    "print(\" The 2nd quartile is \" + str(q2_panther))"
   ]
  },
  {
   "cell_type": "code",
   "execution_count": 79,
   "id": "5a604071",
   "metadata": {},
   "outputs": [
    {
     "name": "stdout",
     "output_type": "stream",
     "text": [
      " The 3rd quartile is 10.625\n"
     ]
    }
   ],
   "source": [
    "#Q3\n",
    "q3_panther = np.percentile(panther,75)\n",
    "q3_panther\n",
    "print(\" The 3rd quartile is \" + str(q3_panther))"
   ]
  },
  {
   "cell_type": "code",
   "execution_count": 85,
   "id": "8fa1aaec",
   "metadata": {},
   "outputs": [
    {
     "name": "stdout",
     "output_type": "stream",
     "text": [
      "The Interquatile Range is 1.5\n"
     ]
    }
   ],
   "source": [
    "#IQR\n",
    "iqr_panther = q3_panther - q1_panther\n",
    "iqr_panther\n",
    "print(\"The Interquatile Range is \" + str(iqr_panther))"
   ]
  },
  {
   "cell_type": "code",
   "execution_count": 78,
   "id": "8b2394f1",
   "metadata": {},
   "outputs": [
    {
     "name": "stdout",
     "output_type": "stream",
     "text": [
      "The variance is 11.082777777777777\n"
     ]
    }
   ],
   "source": [
    "#sample variance\n",
    "var_panther = np.var(panther,ddof=1)\n",
    "var_panther\n",
    "print(\"The variance is \" + str(var_panther))"
   ]
  },
  {
   "cell_type": "code",
   "execution_count": 36,
   "id": "1c6e3c2f",
   "metadata": {},
   "outputs": [
    {
     "name": "stdout",
     "output_type": "stream",
     "text": [
      " The sample standard deviation is 3.3290806204983645\n"
     ]
    }
   ],
   "source": [
    "# sample standard deviation\n",
    "samplestd_panther = np.std(panther,ddof=1)\n",
    "samplestd_panther\n",
    "print(\" The sample standard deviation is \" + str(samplestd_panther))"
   ]
  }
 ],
 "metadata": {
  "kernelspec": {
   "display_name": "Python 3",
   "language": "python",
   "name": "python3"
  },
  "language_info": {
   "codemirror_mode": {
    "name": "ipython",
    "version": 3
   },
   "file_extension": ".py",
   "mimetype": "text/x-python",
   "name": "python",
   "nbconvert_exporter": "python",
   "pygments_lexer": "ipython3",
   "version": "3.9.0"
  }
 },
 "nbformat": 4,
 "nbformat_minor": 5
}
